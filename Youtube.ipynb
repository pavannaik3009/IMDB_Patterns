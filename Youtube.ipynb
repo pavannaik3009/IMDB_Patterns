{
 "cells": [
  {
   "cell_type": "code",
   "execution_count": 27,
   "metadata": {},
   "outputs": [],
   "source": [
    "import urllib.request\n",
    "import urllib.parse\n",
    "import urllib.error\n",
    "from bs4 import BeautifulSoup\n",
    "import ssl\n",
    "import json\n",
    "import ast\n",
    "import json\n",
    "import os\n",
    "from urllib.request import Request, urlopen\n",
    "#importing library\n",
    "import requests\n",
    "import csv\n",
    "import re\n",
    "import pandas as pd"
   ]
  },
  {
   "cell_type": "code",
   "execution_count": 28,
   "metadata": {},
   "outputs": [
    {
     "name": "stdout",
     "output_type": "stream",
     "text": [
      "FordvFerrari\n"
     ]
    }
   ],
   "source": [
    "##Getting channel Title\n",
    "def channelTitle(content):\n",
    "    title = content.h3.a.text\n",
    "    return title\n",
    "youtubeIDs=[]\n",
    "youtubeChannel=[]\n",
    "videoCate=[]\n",
    "\n",
    "def mainFunction(searchValue,channel=1):\n",
    "    youtubeUrl=\"https://www.youtube.com/results?search_query=\"\n",
    "    page = \"&page=\"\n",
    "    count=1\n",
    "    pages = 1\n",
    "    searchQuery=searchValue\n",
    "    for category in searchQuery:\n",
    "        count=1\n",
    "        while count <= pages:\n",
    "            scrapeURL = youtubeUrl + str(category) + page + str(count)\n",
    "            print(category)\n",
    "            source = requests.get(scrapeURL).text\n",
    "            soup = BeautifulSoup(source, 'lxml')\n",
    "            #getting the div yt-lockup-content\n",
    "            for content in soup.find_all('div', class_= \"yt-lockup-content\"):\n",
    "                try:\n",
    "                    ID=content.h3.a\n",
    "                    matching=bool('/watch' in ID.get('href'))\n",
    "                    if(matching):\n",
    "                        youtubeIDs.append(ID.get('href'))\n",
    "                        videoCate.append(category)\n",
    "                    else:\n",
    "                        if(channel):\n",
    "                            youtubeChannel.append(channelTitle(content))\n",
    "                except Exception as e:\n",
    "                    print(e)\n",
    "                    print(\"Exception\")\n",
    "                    description = None\n",
    "            #increasing the count\n",
    "            count=count+1\n",
    "\n",
    "\n",
    "\n",
    "searchValue=['FordvFerrari']\n",
    "mainFunction(searchValue)\n",
    "#Getting video of youtubeChannel\n",
    "mainFunction(youtubeChannel,channel=0)\n",
    "df = {'Videourl': youtubeIDs,'Category':videoCate}\n",
    "df2=pd.DataFrame(df)\n",
    "#storing Youtube videos link into csv file\n",
    "df2.to_csv(\"Videourl.csv\",index=False)\n",
    "link = (df2['Videourl'][1])"
   ]
  },
  {
   "cell_type": "code",
   "execution_count": 29,
   "metadata": {},
   "outputs": [
    {
     "data": {
      "text/plain": [
       "True"
      ]
     },
     "execution_count": 29,
     "metadata": {},
     "output_type": "execute_result"
    }
   ],
   "source": [
    "ctx = ssl.create_default_context()\n",
    "ctx.check_hostname = False\n",
    "\n",
    "ctx.verify_mode = ssl.CERT_NONE\n",
    "\n",
    "# Input from user\n",
    "\n",
    "url = (\"https://www.youtube.com.{}\" .format(link))\n",
    "import webbrowser \n",
    "webbrowser.open(url)\n"
   ]
  },
  {
   "cell_type": "code",
   "execution_count": null,
   "metadata": {},
   "outputs": [],
   "source": []
  },
  {
   "cell_type": "code",
   "execution_count": null,
   "metadata": {},
   "outputs": [],
   "source": []
  },
  {
   "cell_type": "code",
   "execution_count": null,
   "metadata": {},
   "outputs": [],
   "source": []
  },
  {
   "cell_type": "code",
   "execution_count": null,
   "metadata": {},
   "outputs": [],
   "source": []
  }
 ],
 "metadata": {
  "kernelspec": {
   "display_name": "Python 3",
   "language": "python",
   "name": "python3"
  },
  "language_info": {
   "codemirror_mode": {
    "name": "ipython",
    "version": 3
   },
   "file_extension": ".py",
   "mimetype": "text/x-python",
   "name": "python",
   "nbconvert_exporter": "python",
   "pygments_lexer": "ipython3",
   "version": "3.6.9"
  }
 },
 "nbformat": 4,
 "nbformat_minor": 2
}
